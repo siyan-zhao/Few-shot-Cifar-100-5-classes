{
  "nbformat": 4,
  "nbformat_minor": 0,
  "metadata": {
    "colab": {
      "name": "Cifar100_5_classes.ipynb",
      "version": "0.3.2",
      "provenance": [],
      "collapsed_sections": [
        "U2LLKcEbycq0"
      ]
    },
    "kernelspec": {
      "name": "python3",
      "display_name": "Python 3"
    }
  },
  "cells": [
    {
      "cell_type": "markdown",
      "metadata": {
        "id": "tqpPVUXKZ61J",
        "colab_type": "text"
      },
      "source": [
        "# Import"
      ]
    },
    {
      "cell_type": "code",
      "metadata": {
        "id": "Qmx79hjd9TCC",
        "colab_type": "code",
        "colab": {}
      },
      "source": [
        "import pickle\n",
        "import numpy as np\n",
        "import os\n",
        "import tensorflow as tf\n",
        "from tensorflow.python.framework import tensor_util\n",
        "import math\n",
        "import tarfile\n",
        "import pickle\n",
        "import random\n",
        "import numpy as np\n",
        "import tensorflow as tf\n",
        "from urllib.request import urlretrieve\n",
        "from os.path import isfile, isdir\n",
        "from tqdm import tqdm\n",
        "import pickle\n",
        "import numpy as np\n",
        "import matplotlib.pyplot as plt\n",
        "import random"
      ],
      "execution_count": 0,
      "outputs": []
    },
    {
      "cell_type": "markdown",
      "metadata": {
        "id": "oOqqoEtFZr3N",
        "colab_type": "text"
      },
      "source": [
        "# Preprocessing"
      ]
    },
    {
      "cell_type": "code",
      "metadata": {
        "id": "lqNiNnLQ95zr",
        "colab_type": "code",
        "outputId": "9699bf1f-dc3c-41bc-edd5-74bec03bdd9f",
        "colab": {
          "base_uri": "https://localhost:8080/",
          "height": 68
        }
      },
      "source": [
        "from keras.datasets import cifar100\n",
        "(x_train, y_train), (x_test, y_test) = cifar100.load_data()"
      ],
      "execution_count": 2,
      "outputs": [
        {
          "output_type": "stream",
          "text": [
            "Using TensorFlow backend.\n"
          ],
          "name": "stderr"
        },
        {
          "output_type": "stream",
          "text": [
            "Downloading data from https://www.cs.toronto.edu/~kriz/cifar-100-python.tar.gz\n",
            "169009152/169001437 [==============================] - 5s 0us/step\n"
          ],
          "name": "stdout"
        }
      ]
    },
    {
      "cell_type": "code",
      "metadata": {
        "id": "aVRww0oKgfF2",
        "colab_type": "code",
        "colab": {}
      },
      "source": [
        "cifar100_label = [\n",
        "    'apple', 'aquarium_fish', 'baby', 'bear', 'beaver', 'bed', 'bee', 'beetle', \n",
        "    'bicycle', 'bottle', 'bowl', 'boy', 'bridge', 'bus', 'butterfly', 'camel', \n",
        "    'can', 'castle', 'caterpillar', 'cattle', 'chair', 'chimpanzee', 'clock', \n",
        "    'cloud', 'cockroach', 'couch', 'crab', 'crocodile', 'cup', 'dinosaur', \n",
        "    'dolphin', 'elephant', 'flatfish', 'forest', 'fox', 'girl', 'hamster', \n",
        "    'house', 'kangaroo', 'keyboard', 'lamp', 'lawn_mower', 'leopard', 'lion',\n",
        "    'lizard', 'lobster', 'man', 'maple_tree', 'motorcycle', 'mountain', 'mouse',\n",
        "    'mushroom', 'oak_tree', 'orange', 'orchid', 'otter', 'palm_tree', 'pear',\n",
        "    'pickup_truck', 'pine_tree', 'plain', 'plate', 'poppy', 'porcupine',\n",
        "    'possum', 'rabbit', 'raccoon', 'ray', 'road', 'rocket', 'rose',\n",
        "    'sea', 'seal', 'shark', 'shrew', 'skunk', 'skyscraper', 'snail', 'snake',\n",
        "    'spider', 'squirrel', 'streetcar', 'sunflower', 'sweet_pepper', 'table',\n",
        "    'tank', 'telephone', 'television', 'tiger', 'tractor', 'train', 'trout',\n",
        "    'tulip', 'turtle', 'wardrobe', 'whale', 'willow_tree', 'wolf', 'woman',\n",
        "    'worm'\n",
        "]"
      ],
      "execution_count": 0,
      "outputs": []
    },
    {
      "cell_type": "code",
      "metadata": {
        "id": "a0aKf12sjiYh",
        "colab_type": "code",
        "colab": {}
      },
      "source": [
        "def batch_features_labels(features, labels, batch_size):\n",
        "    \"\"\"\n",
        "    Split features and labels into batches\n",
        "    \"\"\"\n",
        "    for start in range(0, len(features), batch_size):\n",
        "        end = min(start + batch_size, len(features))\n",
        "        yield features[start:end], labels[start:end]\n",
        "        \n",
        "def _preprocess_and_save(normalize, one_hot_encode, features, labels, filename):\n",
        "    features = normalize(features)\n",
        "    labels = one_hot_encode(labels)\n",
        "\n",
        "    pickle.dump((features, labels), open(filename, 'wb'))\n",
        "\n",
        "\n",
        "def group_100_classes(x , y):\n",
        "  \"\"\"\n",
        "  This function takes in 60000 pairs of feature and label.\n",
        "  There are 100 classes in cifar100 with each class having 600 images and labels.\n",
        "  This function saves 100 training files with each contains 500 training images of one specific class\n",
        "  100 validation filew with each contains 100 validation images of one specific class\n",
        "  \"\"\"\n",
        "  index_of_validation = 100\n",
        "  for x in range(0,100):\n",
        "    features = []\n",
        "    labels = []\n",
        "    valid_features = []\n",
        "    valid_labels = []\n",
        "    for i in range(0,50000):\n",
        "      if(y_train[i][0] == x):\n",
        "        features.append(x_train[i])\n",
        "        labels.append(y_train[i])\n",
        "        #delete already stored data\n",
        "        \n",
        "    features = np.array(features)\n",
        "    labels = np.array(labels)\n",
        "#     print(\"features:{}\".format(features.shape))  \n",
        "    train_features = features[:-index_of_validation]\n",
        "#     print('train_features:{}'.format(train_features.shape))\n",
        "    train_labels = labels[:-index_of_validation]\n",
        "#     print('train_labels:{}'.format(train_labels.shape))\n",
        "    valid_features.extend(features[-index_of_validation:])\n",
        "    valid_labels.extend(labels[-index_of_validation:])\n",
        "    \n",
        "    #save files\n",
        "    _preprocess_and_save(normalize,one_hot_encode,train_features,train_labels,\n",
        "                        'train'+str(x)+'.p')\n",
        "    _preprocess_and_save(normalize, one_hot_encode,\n",
        "                         np.array(valid_features), np.array(valid_labels),\n",
        "                         'validation'+str(x)+'.p')\n",
        "    \n",
        "def get_5_random_classes():\n",
        "  \"\"\"\n",
        "  This function returns data from five randomly chosen classes \n",
        "  as well as validation dataset\n",
        "  \"\"\"\n",
        "  class_list = random.sample(range(0,100),5)\n",
        "  print(class_list)\n",
        "  label = []\n",
        "  for i in class_list:\n",
        "    label.append(cifar100_label[i])\n",
        "  print(label)\n",
        "  features = []\n",
        "  labels = []\n",
        "  valid_x = []\n",
        "  valid_y = []\n",
        "  for i in class_list:\n",
        "      filename = 'train' + str(i) + '.p'\n",
        "      feature1,label1 = pickle.load(open(filename, mode='rb'))\n",
        "#       print('feature size :{}'.format(feature1.shape))\n",
        "      filename = 'validation' + str(i) + '.p'\n",
        "      valid_x1, valid_y1 = pickle.load(open(filename, mode='rb'))\n",
        "      features.extend(feature1)\n",
        "      labels.extend(label1)\n",
        "      valid_x.extend(valid_x1)\n",
        "      valid_y.extend(valid_y1)\n",
        "  features = np.array(features)\n",
        "  labels = np.array(labels)\n",
        "  \n",
        "  \n",
        "  \n",
        "  return np.array(valid_x), np.array(valid_y), np.array(features), np.array(labels)\n",
        "      "
      ],
      "execution_count": 0,
      "outputs": []
    },
    {
      "cell_type": "code",
      "metadata": {
        "id": "e3JyfFeai9XD",
        "colab_type": "code",
        "colab": {}
      },
      "source": [
        "def one_hot_encode(x):\n",
        "    \"\"\"\n",
        "        argument\n",
        "            - x: a list of labels\n",
        "        return\n",
        "            - one hot encoding matrix (number of labels, number of class)\n",
        "    \"\"\"\n",
        "    encoded = np.zeros((len(x), 100))\n",
        "\n",
        "    for idx, val in enumerate(x):\n",
        "        encoded[idx][val] = 1\n",
        "\n",
        "    return encoded\n",
        "def normalize(x):\n",
        "    \"\"\"\n",
        "        argument\n",
        "            - x: input image data in numpy array [32, 32, 3]\n",
        "        return\n",
        "            - normalized x\n",
        "    \"\"\"\n",
        "    min_val = np.min(x)\n",
        "    max_val = np.max(x)\n",
        "    x = (x-min_val) / (max_val-min_val)\n",
        "    return x"
      ],
      "execution_count": 0,
      "outputs": []
    },
    {
      "cell_type": "markdown",
      "metadata": {
        "id": "U2LLKcEbycq0",
        "colab_type": "text"
      },
      "source": [
        "# CNN"
      ]
    },
    {
      "cell_type": "code",
      "metadata": {
        "id": "jZmWUATQyga5",
        "colab_type": "code",
        "colab": {}
      },
      "source": [
        "\n",
        "def Batch_normalization(x,gamma,beta):\n",
        "  mu = np.mean (x, axis=0)\n",
        "  var = np.var (x, axis=0)\n",
        "  x_bar = (x - mu) / np.sqrt(var + 1e-8)\n",
        "  out = gamma * x_bar + beta\n",
        "  \n",
        "  return out\n",
        "# unfinished\n",
        "\n",
        "def activation(x):\n",
        "  # 3 types of activations\n",
        "  #return tf.nn.sigmoid(x)\n",
        "  #return tf.nn.tanh(x)\n",
        "  return tf.nn.relu(x)\n",
        "\n",
        "def fully_con(tensor,outputsize):\n",
        "  # Weights and bias\n",
        "    initializer=tf.contrib.layers.xavier_initializer()\n",
        "  #  W = tf.Variable(tf.truncated_normal([int(tensor.shape[1]), outputsize], stddev=.05))\n",
        "    #W = tf.Variable(tf.zeros([int(tensor.shape[1]),outputsize]))\n",
        "    W = tf.Variable(initializer(shape=[int(tensor.shape[1]),outputsize]))\n",
        "    b = tf.Variable(tf.zeros([outputsize]))\n",
        "    x = tf.add(tf.matmul(tensor, W), b)\n",
        "   \n",
        "    return activation(x)\n",
        "\n",
        "def output(tensor, outputsize):\n",
        "  \n",
        "  W = tf.Variable(tf.truncated_normal([int(tensor.shape[1]),outputsize],stddev=.05))\n",
        "  b = tf.Variable(tf.zeros([outputsize]))\n",
        "  \n",
        "  return tf.add(tf.matmul(tensor,W),b)\n",
        "\n",
        "\n"
      ],
      "execution_count": 0,
      "outputs": []
    },
    {
      "cell_type": "code",
      "metadata": {
        "id": "UWw_QfJtyi0W",
        "colab_type": "code",
        "colab": {}
      },
      "source": [
        "def conv_net(x,keep_prob):\n",
        "    conv1_filter = tf.Variable(tf.truncated_normal(shape=[3, 3, 3, 64], mean=0, stddev=0.08))\n",
        "    conv2_filter = tf.Variable(tf.truncated_normal(shape=[3, 3, 64, 128], mean=0, stddev=0.08))\n",
        "    conv3_filter = tf.Variable(tf.truncated_normal(shape=[5, 5, 128, 256], mean=0, stddev=0.08))\n",
        "    conv4_filter = tf.Variable(tf.truncated_normal(shape=[5, 5, 256, 512], mean=0, stddev=0.08))\n",
        "    # 2. Zeros\n",
        "#     conv1_filter = tf.Variable(tf.zeros([3, 3, 3, 64])) \n",
        "#     conv2_filter = tf.Variable(tf.zeros([3, 3, 64, 128])) \n",
        "#     conv3_filter = tf.Variable(tf.zeros([5, 5, 128, 256])) \n",
        "#     conv4_filter = tf.Variable(tf.zeros([5, 5, 256, 512])) \n",
        "  \n",
        "#     # 3. Xavier\n",
        "   # initializer=tf.contrib.layers.xavier_initializer()\n",
        "#     conv1_filter = tf.Variable(initializer(shape=[3, 3, 3, 64]))\n",
        "#     conv2_filter = tf.Variable(initializer(shape=[3, 3, 64, 128]))                 \n",
        "#     conv3_filter = tf.Variable(initializer(shape=[5, 5, 128, 256]))\n",
        "#     conv4_filter = tf.Variable(initializer(shape=[5, 5, 256, 512]))\n",
        "\n",
        "    biases = {\n",
        "      #bias for kernels\n",
        "        \n",
        "      #random_normal biases\n",
        "      'r1': tf.Variable(tf.truncated_normal([64],mean=0,stddev=0.08)),\n",
        "      'r2': tf.Variable(tf.truncated_normal([128],mean=0,stddev=0.08)),\n",
        "      'r3': tf.Variable(tf.truncated_normal([256],mean=0,stddev=0.08)),\n",
        "      'r4': tf.Variable(tf.truncated_normal([512],mean=0,stddev=0.08)),\n",
        "     \n",
        "      #zeros biases\n",
        "      'z1': tf.Variable(tf.zeros([64])),\n",
        "      'z2': tf.Variable(tf.zeros([128])),\n",
        "      'z3': tf.Variable(tf.zeros([256])),\n",
        "      'z4': tf.Variable(tf.zeros([512])),\n",
        "      \n",
        "#       #Xavier biases\n",
        "#       'x1': tf.Variable(initializer([64])),\n",
        "#       'x2': tf.Variable(initializer([128])),\n",
        "#       'x3': tf.Variable(initializer([256])),\n",
        "#       'x4': tf.Variable(initializer([512]))\n",
        "    }\n",
        "   \n",
        "    # 1, 2\n",
        "    conv1 = tf.nn.conv2d(x, conv1_filter, strides=[1,1,1,1], padding='SAME')\n",
        "    conv1 = tf.nn.bias_add(conv1,biases['z1'])\n",
        "    conv1 = activation(conv1)\n",
        "    conv1 = tf.nn.max_pool(conv1, ksize=[1,2,2,1], strides=[1,2,2,1], padding='SAME')\n",
        "    conv1 = tf.layers.batch_normalization(conv1)\n",
        "    print('shape  of CNN')\n",
        "    print('conv1:{}'.format(conv1.shape))\n",
        "    # 3, 4\n",
        "    conv2 = tf.nn.conv2d(conv1, conv2_filter, strides=[1,1,1,1], padding='SAME')\n",
        "    conv2 = tf.nn.bias_add(conv2,biases['z2'])\n",
        "    conv2 = activation(conv2)\n",
        "    conv2 = tf.nn.max_pool(conv2, ksize=[1,2,2,1], strides=[1,2,2,1], padding='SAME')    \n",
        "    conv2 = tf.layers.batch_normalization(conv2)\n",
        "    print('conv2:{}'.format(conv2.shape))\n",
        "   \n",
        "   \n",
        "    # 9\n",
        "    flat = tf.contrib.layers.flatten(conv2)  \n",
        "    print('flat layer:{}'.format(flat.shape))\n",
        "    full1 = fully_con(flat,256)\n",
        "    full1 = tf.nn.dropout(full1, keep_prob)\n",
        "    print('fully connected layer:{}'.format(full1.shape))\n",
        "    full2 = fully_con(full1,512)\n",
        "    full2 = tf.nn.dropout(full1, keep_prob)\n",
        "    \n",
        "    full3 = fully_con(full2,1024)\n",
        "    full3 = tf.nn.dropout(full1, keep_prob)\n",
        "    \n",
        "    #out = tf.contrib.layers.fully_connected(inputs=full3, num_outputs=10, activation_fn=None)\n",
        "    out = output(full1,100)\n",
        "    print('output layer:{}'.format(out.shape))\n",
        "    return out"
      ],
      "execution_count": 0,
      "outputs": []
    },
    {
      "cell_type": "markdown",
      "metadata": {
        "id": "nuh_dxmCyrII",
        "colab_type": "text"
      },
      "source": [
        "# Training"
      ]
    },
    {
      "cell_type": "code",
      "metadata": {
        "id": "b3wpjvG0y9um",
        "colab_type": "code",
        "colab": {}
      },
      "source": [
        "\"\"\"\n",
        "hyperparameters\n",
        "\"\"\"\n",
        "epochs = 100\n",
        "batch_size = 128\n",
        "keep_probability = 0.7\n",
        "learning_rate = 0.001"
      ],
      "execution_count": 0,
      "outputs": []
    },
    {
      "cell_type": "code",
      "metadata": {
        "id": "mHRx9f8T2DsG",
        "colab_type": "code",
        "colab": {}
      },
      "source": [
        "group_100_classes(x_train,y_train)"
      ],
      "execution_count": 0,
      "outputs": []
    },
    {
      "cell_type": "code",
      "metadata": {
        "id": "hS-PzcOW1nBR",
        "colab_type": "code",
        "outputId": "9d3ab702-04b8-4968-c717-778e72cb3a58",
        "colab": {
          "base_uri": "https://localhost:8080/",
          "height": 119
        }
      },
      "source": [
        "# Remove previous weights, bias, inputs, etc..\n",
        "tf.reset_default_graph()\n",
        "# Inputs\n",
        "x = tf.placeholder(tf.float32, shape=(None, 32, 32, 3), name='input_x')\n",
        "y = tf.placeholder(tf.float32, shape=(None, 100), name='output_y')\n",
        "keep_prob = tf.placeholder(tf.float32, name='keep_prob')\n",
        "\n",
        "logits = conv_net(x, keep_prob)\n",
        "model = tf.identity(logits, name='logits') # Name logits Tensor, so that can be loaded from disk after training\n",
        "\n",
        "# Loss and Optimizer\n",
        "cost = tf.reduce_mean(tf.nn.softmax_cross_entropy_with_logits(logits=logits, labels=y))\n",
        "#optimizer = tf.train.AdamOptimizer(learning_rate=learning_rate).minimize(cost)\n",
        "optimizer = tf.train.MomentumOptimizer(learning_rate,0.9).minimize(cost)                                              \n",
        "\n",
        "# Accuracy\n",
        "correct_pred = tf.equal(tf.argmax(logits, 1), tf.argmax(y, 1))\n",
        "accuracy = tf.reduce_mean(tf.cast(correct_pred, tf.float32), name='accuracy')"
      ],
      "execution_count": 12,
      "outputs": [
        {
          "output_type": "stream",
          "text": [
            "shape  of CNN\n",
            "conv1:(?, 16, 16, 64)\n",
            "conv2:(?, 8, 8, 128)\n",
            "flat layer:(?, 8192)\n",
            "fully connected layer:(?, 256)\n",
            "output layer:(?, 100)\n"
          ],
          "name": "stdout"
        }
      ]
    },
    {
      "cell_type": "code",
      "metadata": {
        "id": "CfBKj1N8y6yY",
        "colab_type": "code",
        "colab": {}
      },
      "source": [
        "def train_neural_network(session, optimizer, keep_probability, feature_batch, label_batch):\n",
        "    session.run(optimizer, \n",
        "                feed_dict={\n",
        "                    x: feature_batch,\n",
        "                    y: label_batch,\n",
        "                    keep_prob: keep_probability\n",
        "                })\n",
        "    \n",
        "def print_stats(session, feature_batch, label_batch, cost, accuracy):\n",
        "    T_loss = sess.run(cost, \n",
        "                    feed_dict={\n",
        "                        x: feature_batch,\n",
        "                        y: label_batch,\n",
        "                        keep_prob: 1.\n",
        "                    })\n",
        "    V_loss = sess.run(cost, \n",
        "                    feed_dict={\n",
        "                        x: valid_x,\n",
        "                        y: valid_y,\n",
        "                        keep_prob: 1.\n",
        "                    })\n",
        "    valid_acc = sess.run(accuracy, \n",
        "                         feed_dict={\n",
        "                             x: valid_x,\n",
        "                             y: valid_y,\n",
        "                             keep_prob: 1.\n",
        "                         })\n",
        "    train_acc = sess.run(accuracy, \n",
        "                         feed_dict={\n",
        "                             x: feature_batch,\n",
        "                             y: label_batch,\n",
        "                             keep_prob: 1.\n",
        "                         })\n",
        "    \n",
        "    print('Loss: {:>10.4f} Validation Accuracy: {:.6f}'.format(T_loss, valid_acc))\n",
        "    return T_loss, V_loss, train_acc, valid_acc"
      ],
      "execution_count": 0,
      "outputs": []
    },
    {
      "cell_type": "code",
      "metadata": {
        "id": "OodXzBQfy7RT",
        "colab_type": "code",
        "outputId": "942becb3-9959-4fd0-c3cd-224d58af667d",
        "colab": {
          "base_uri": "https://localhost:8080/",
          "height": 1768
        }
      },
      "source": [
        "save_model_path = './image_classification'\n",
        "valid_x, valid_y, features, labels = get_5_random_classes()\n",
        "# print(valid_y)\n",
        "print('Training...')\n",
        "with tf.Session() as sess:\n",
        "    # Initializing the variables\n",
        "    sess.run(tf.global_variables_initializer())\n",
        "    train_losses = []\n",
        "    valid_losses = []\n",
        "    train_accs = []\n",
        "    valid_accs = []\n",
        "    # Training cycle\n",
        "    \n",
        "    \n",
        "   \n",
        "    for epoch in range(epochs):\n",
        "            # Loop over all batches\n",
        "            for batch_features, batch_labels in batch_features_labels(features, labels, batch_size):\n",
        "#                 print(\"\\\\:{}\".format(batch_features.shape))\n",
        "                train_neural_network(sess, optimizer, keep_probability, batch_features, batch_labels)\n",
        "                \n",
        "            print('Epoch {:>2} '.format(epoch + 1), end='')\n",
        "            \n",
        "            T_loss, V_loss, train_acc, valid_acc = print_stats(sess, batch_features, batch_labels, cost, accuracy)\n",
        "            train_losses.append(T_loss)\n",
        "            valid_losses.append(V_loss)\n",
        "            train_accs.append(train_acc)\n",
        "            valid_accs.append(valid_acc)\n",
        "            \n",
        "    # Save Model\n",
        "    saver = tf.train.Saver()\n",
        "    save_path = saver.save(sess, save_model_path)"
      ],
      "execution_count": 15,
      "outputs": [
        {
          "output_type": "stream",
          "text": [
            "[39, 22, 38, 64, 63]\n",
            "['keyboard', 'clock', 'kangaroo', 'possum', 'porcupine']\n",
            "Training...\n",
            "Epoch  1 Loss:     3.9845 Validation Accuracy: 0.278000\n",
            "Epoch  2 Loss:     1.7352 Validation Accuracy: 0.200000\n",
            "Epoch  3 Loss:     3.2788 Validation Accuracy: 0.200000\n",
            "Epoch  4 Loss:     2.4092 Validation Accuracy: 0.202000\n",
            "Epoch  5 Loss:     1.6548 Validation Accuracy: 0.280000\n",
            "Epoch  6 Loss:     2.0477 Validation Accuracy: 0.210000\n",
            "Epoch  7 Loss:     1.7114 Validation Accuracy: 0.246000\n",
            "Epoch  8 Loss:     1.8544 Validation Accuracy: 0.230000\n",
            "Epoch  9 Loss:     1.7320 Validation Accuracy: 0.348000\n",
            "Epoch 10 Loss:     1.7643 Validation Accuracy: 0.316000\n",
            "Epoch 11 Loss:     1.7302 Validation Accuracy: 0.352000\n",
            "Epoch 12 Loss:     1.7369 Validation Accuracy: 0.342000\n",
            "Epoch 13 Loss:     1.6973 Validation Accuracy: 0.344000\n",
            "Epoch 14 Loss:     1.7009 Validation Accuracy: 0.354000\n",
            "Epoch 15 Loss:     1.6915 Validation Accuracy: 0.340000\n",
            "Epoch 16 Loss:     1.6831 Validation Accuracy: 0.346000\n",
            "Epoch 17 Loss:     1.6752 Validation Accuracy: 0.360000\n",
            "Epoch 18 Loss:     1.6571 Validation Accuracy: 0.352000\n",
            "Epoch 19 Loss:     1.6407 Validation Accuracy: 0.356000\n",
            "Epoch 20 Loss:     1.6305 Validation Accuracy: 0.358000\n",
            "Epoch 21 Loss:     1.6244 Validation Accuracy: 0.362000\n",
            "Epoch 22 Loss:     1.6067 Validation Accuracy: 0.358000\n",
            "Epoch 23 Loss:     1.5897 Validation Accuracy: 0.360000\n",
            "Epoch 24 Loss:     1.5914 Validation Accuracy: 0.360000\n",
            "Epoch 25 Loss:     1.5634 Validation Accuracy: 0.368000\n",
            "Epoch 26 Loss:     1.5498 Validation Accuracy: 0.374000\n",
            "Epoch 27 Loss:     1.5327 Validation Accuracy: 0.378000\n",
            "Epoch 28 Loss:     1.5047 Validation Accuracy: 0.390000\n",
            "Epoch 29 Loss:     1.4818 Validation Accuracy: 0.378000\n",
            "Epoch 30 Loss:     1.4695 Validation Accuracy: 0.358000\n",
            "Epoch 31 Loss:     1.4596 Validation Accuracy: 0.352000\n",
            "Epoch 32 Loss:     1.4437 Validation Accuracy: 0.352000\n",
            "Epoch 33 Loss:     1.4145 Validation Accuracy: 0.358000\n",
            "Epoch 34 Loss:     1.4005 Validation Accuracy: 0.362000\n",
            "Epoch 35 Loss:     1.3868 Validation Accuracy: 0.350000\n",
            "Epoch 36 Loss:     1.3737 Validation Accuracy: 0.352000\n",
            "Epoch 37 Loss:     1.3612 Validation Accuracy: 0.354000\n",
            "Epoch 38 Loss:     1.3481 Validation Accuracy: 0.350000\n",
            "Epoch 39 Loss:     1.3255 Validation Accuracy: 0.344000\n",
            "Epoch 40 Loss:     1.3292 Validation Accuracy: 0.352000\n",
            "Epoch 41 Loss:     1.3227 Validation Accuracy: 0.358000\n",
            "Epoch 42 Loss:     1.3061 Validation Accuracy: 0.360000\n",
            "Epoch 43 Loss:     1.2921 Validation Accuracy: 0.360000\n",
            "Epoch 44 Loss:     1.2835 Validation Accuracy: 0.364000\n",
            "Epoch 45 Loss:     1.2888 Validation Accuracy: 0.368000\n",
            "Epoch 46 Loss:     1.2703 Validation Accuracy: 0.378000\n",
            "Epoch 47 Loss:     1.2560 Validation Accuracy: 0.386000\n",
            "Epoch 48 Loss:     1.2615 Validation Accuracy: 0.386000\n",
            "Epoch 49 Loss:     1.2476 Validation Accuracy: 0.390000\n",
            "Epoch 50 Loss:     1.2400 Validation Accuracy: 0.394000\n",
            "Epoch 51 Loss:     1.2484 Validation Accuracy: 0.388000\n",
            "Epoch 52 Loss:     1.2262 Validation Accuracy: 0.392000\n",
            "Epoch 53 Loss:     1.2239 Validation Accuracy: 0.394000\n",
            "Epoch 54 Loss:     1.2286 Validation Accuracy: 0.394000\n",
            "Epoch 55 Loss:     1.2091 Validation Accuracy: 0.396000\n",
            "Epoch 56 Loss:     1.2152 Validation Accuracy: 0.400000\n",
            "Epoch 57 Loss:     1.2155 Validation Accuracy: 0.404000\n",
            "Epoch 58 Loss:     1.2054 Validation Accuracy: 0.410000\n",
            "Epoch 59 Loss:     1.1840 Validation Accuracy: 0.406000\n",
            "Epoch 60 Loss:     1.1833 Validation Accuracy: 0.414000\n",
            "Epoch 61 Loss:     1.2038 Validation Accuracy: 0.414000\n",
            "Epoch 62 Loss:     1.1854 Validation Accuracy: 0.418000\n",
            "Epoch 63 Loss:     1.1742 Validation Accuracy: 0.420000\n",
            "Epoch 64 Loss:     1.1636 Validation Accuracy: 0.420000\n",
            "Epoch 65 Loss:     1.1700 Validation Accuracy: 0.418000\n",
            "Epoch 66 Loss:     1.1866 Validation Accuracy: 0.426000\n",
            "Epoch 67 Loss:     1.1573 Validation Accuracy: 0.428000\n",
            "Epoch 68 Loss:     1.1509 Validation Accuracy: 0.428000\n",
            "Epoch 69 Loss:     1.1577 Validation Accuracy: 0.434000\n",
            "Epoch 70 Loss:     1.1428 Validation Accuracy: 0.440000\n",
            "Epoch 71 Loss:     1.1481 Validation Accuracy: 0.440000\n",
            "Epoch 72 Loss:     1.1310 Validation Accuracy: 0.444000\n",
            "Epoch 73 Loss:     1.1278 Validation Accuracy: 0.454000\n",
            "Epoch 74 Loss:     1.1443 Validation Accuracy: 0.446000\n",
            "Epoch 75 Loss:     1.1305 Validation Accuracy: 0.448000\n",
            "Epoch 76 Loss:     1.1256 Validation Accuracy: 0.454000\n",
            "Epoch 77 Loss:     1.1203 Validation Accuracy: 0.464000\n",
            "Epoch 78 Loss:     1.1288 Validation Accuracy: 0.474000\n",
            "Epoch 79 Loss:     1.0982 Validation Accuracy: 0.480000\n",
            "Epoch 80 Loss:     1.1125 Validation Accuracy: 0.468000\n",
            "Epoch 81 Loss:     1.1077 Validation Accuracy: 0.472000\n",
            "Epoch 82 Loss:     1.0951 Validation Accuracy: 0.486000\n",
            "Epoch 83 Loss:     1.0973 Validation Accuracy: 0.484000\n",
            "Epoch 84 Loss:     1.0795 Validation Accuracy: 0.492000\n",
            "Epoch 85 Loss:     1.0865 Validation Accuracy: 0.482000\n",
            "Epoch 86 Loss:     1.0775 Validation Accuracy: 0.494000\n",
            "Epoch 87 Loss:     1.0890 Validation Accuracy: 0.494000\n",
            "Epoch 88 Loss:     1.0767 Validation Accuracy: 0.498000\n",
            "Epoch 89 Loss:     1.0752 Validation Accuracy: 0.490000\n",
            "Epoch 90 Loss:     1.0565 Validation Accuracy: 0.502000\n",
            "Epoch 91 Loss:     1.0580 Validation Accuracy: 0.502000\n",
            "Epoch 92 Loss:     1.0682 Validation Accuracy: 0.498000\n",
            "Epoch 93 Loss:     1.0610 Validation Accuracy: 0.506000\n",
            "Epoch 94 Loss:     1.0542 Validation Accuracy: 0.512000\n",
            "Epoch 95 Loss:     1.0571 Validation Accuracy: 0.504000\n",
            "Epoch 96 Loss:     1.0361 Validation Accuracy: 0.510000\n",
            "Epoch 97 Loss:     1.0245 Validation Accuracy: 0.508000\n",
            "Epoch 98 Loss:     1.0399 Validation Accuracy: 0.516000\n",
            "Epoch 99 Loss:     1.0396 Validation Accuracy: 0.516000\n",
            "Epoch 100 Loss:     1.0102 Validation Accuracy: 0.516000\n"
          ],
          "name": "stdout"
        }
      ]
    },
    {
      "cell_type": "markdown",
      "metadata": {
        "id": "nNPsvkLZZ1Pk",
        "colab_type": "text"
      },
      "source": [
        "#Visualization"
      ]
    },
    {
      "cell_type": "code",
      "metadata": {
        "id": "POr9kxBb0h2p",
        "colab_type": "code",
        "outputId": "e3dd2ceb-7be9-4ac6-f633-c0578655d245",
        "colab": {
          "base_uri": "https://localhost:8080/",
          "height": 743
        }
      },
      "source": [
        "# Plot training curve\n",
        "    plt.figure(figsize=(9, 5))\n",
        "    plt.plot(train_losses, 'bo-', label=\"Train\")\n",
        "    plt.plot(valid_losses, 'yo-', label=\"Validation\")\n",
        "    plt.legend()\n",
        "    plt.title(\"Loss \\n classes: [39, 22, 38, 64, 63] \\n ['keyboard', 'clock', 'kangaroo', 'possum', 'porcupine'] \")\n",
        "    plt.xlabel(\"Epochs\")\n",
        "    plt.show()\n",
        "    plt.close()\n",
        "    \n",
        "    plt.figure(figsize=(9, 5))\n",
        "    plt.plot(train_accs, 'bo-',label=\"Train\")\n",
        "    plt.plot(valid_accs, 'yo-',label=\"Validation\")\n",
        "    plt.legend()\n",
        "    plt.title(\"Accuracy \\n classes: [63, 17, 27, 37, 51] \\n ['keyboard', 'clock', 'kangaroo', 'possum', 'porcupine'] \")\n",
        "    plt.xlabel(\"Epochs\")\n",
        "    plt.show()\n",
        "    plt.close()\n",
        "    \n",
        "    "
      ],
      "execution_count": 16,
      "outputs": [
        {
          "output_type": "display_data",
          "data": {
            "image/png": "[encoded data removed]",
            "text/plain": [
              "<Figure size 648x360 with 1 Axes>"
            ]
          },
          "metadata": {
            "tags": []
          }
        },
        {
          "output_type": "display_data",
          "data": {
            "image/png": "[encoded data removed]",
            "text/plain": [
              "<Figure size 648x360 with 1 Axes>"
            ]
          },
          "metadata": {
            "tags": []
          }
        }
      ]
    }
  ]
}